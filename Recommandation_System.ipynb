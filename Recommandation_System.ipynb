{
 "cells": [
  {
   "cell_type": "markdown",
   "metadata": {},
   "source": [
    "# 1.  Import des données "
   ]
  },
  {
   "cell_type": "code",
   "execution_count": 1,
   "metadata": {},
   "outputs": [],
   "source": [
    "import csv\n",
    "import numpy as np\n",
    "%matplotlib inline\n",
    "# pour ipyhton notebook \n",
    "import matplotlib as plt\n",
    "import pylab as pl"
   ]
  },
  {
   "cell_type": "code",
   "execution_count": 2,
   "metadata": {},
   "outputs": [
    {
     "name": "stdout",
     "output_type": "stream",
     "text": [
      "[['943 users'], ['1682 items'], ['100000 ratings']]\n"
     ]
    }
   ],
   "source": [
    "with open('u.info', 'r') as f:\n",
    "    reader = csv.reader(f, delimiter = '\\n')\n",
    "    Info = list(reader)\n",
    "print(Info)"
   ]
  },
  {
   "cell_type": "markdown",
   "metadata": {},
   "source": [
    " ##  Création des deux directionnaires des ratings (20% et 80%)"
   ]
  },
  {
   "cell_type": "code",
   "execution_count": 3,
   "metadata": {},
   "outputs": [
    {
     "name": "stdout",
     "output_type": "stream",
     "text": [
      "[{'user': 1, 'movie': 6, 'rating': 5, 'datestamp': 887431973}, {'user': 1, 'movie': 10, 'rating': 3, 'datestamp': 875693118}, {'user': 1, 'movie': 12, 'rating': 5, 'datestamp': 878542960}, {'user': 1, 'movie': 14, 'rating': 5, 'datestamp': 874965706}, {'user': 1, 'movie': 17, 'rating': 3, 'datestamp': 875073198}, {'user': 1, 'movie': 20, 'rating': 4, 'datestamp': 887431883}, {'user': 1, 'movie': 23, 'rating': 4, 'datestamp': 875072895}, {'user': 1, 'movie': 24, 'rating': 3, 'datestamp': 875071713}, {'user': 1, 'movie': 27, 'rating': 2, 'datestamp': 876892946}, {'user': 1, 'movie': 31, 'rating': 3, 'datestamp': 875072144}]\n",
      "Nombre de ratings : 20000\n"
     ]
    }
   ],
   "source": [
    "with open(\"u1.test\", 'r') as f:\n",
    "    fieldnames=['user','movie','rating','datestamp']\n",
    "    reader = csv.DictReader(f, delimiter = '\\t', fieldnames=fieldnames)\n",
    "    # create a dict out of reader, converting all values to integers\n",
    "    baseUserItem =  [dict([key, int(value)] for key, value in row.items()) for row in list(reader)]\n",
    "print(baseUserItem[:10])\n",
    "print(\"Nombre de ratings :\", len(baseUserItem))"
   ]
  },
  {
   "cell_type": "code",
   "execution_count": 6,
   "metadata": {},
   "outputs": [
    {
     "name": "stdout",
     "output_type": "stream",
     "text": [
      "[{'user': 1, 'movie': 1, 'rating': 5, 'datestamp': 874965758}, {'user': 1, 'movie': 2, 'rating': 3, 'datestamp': 876893171}, {'user': 1, 'movie': 3, 'rating': 4, 'datestamp': 878542960}, {'user': 1, 'movie': 4, 'rating': 3, 'datestamp': 876893119}, {'user': 1, 'movie': 5, 'rating': 3, 'datestamp': 889751712}, {'user': 1, 'movie': 7, 'rating': 4, 'datestamp': 875071561}, {'user': 1, 'movie': 8, 'rating': 1, 'datestamp': 875072484}, {'user': 1, 'movie': 9, 'rating': 5, 'datestamp': 878543541}, {'user': 1, 'movie': 11, 'rating': 2, 'datestamp': 875072262}, {'user': 1, 'movie': 13, 'rating': 5, 'datestamp': 875071805}]\n",
      "Nombre de ratings : 80000\n"
     ]
    }
   ],
   "source": [
    "with open(\"u1.base\", 'r') as f:\n",
    "    fieldnames=['user','movie','rating','datestamp']\n",
    "    reader = csv.DictReader(f, delimiter = '\\t', fieldnames=fieldnames)\n",
    "    # create a dict out of reader, converting all values to integers\n",
    "    testUserItem =  [dict([key, int(value)] for key, value in row.items()) for row in list(reader)]\n",
    "print(testUserItem[:10])\n",
    "print(\"Nombre de ratings :\", len(testUserItem))"
   ]
  },
  {
   "cell_type": "markdown",
   "metadata": {},
   "source": [
    "## Informations sur les User / Occupation /Items (movies) / Genres "
   ]
  },
  {
   "cell_type": "code",
   "execution_count": 7,
   "metadata": {},
   "outputs": [
    {
     "name": "stdout",
     "output_type": "stream",
     "text": [
      "[OrderedDict([('userID', '1'), ('age', '24'), ('gender', 'M'), ('occupation', 'technician'), ('zipcode', '85711')]), OrderedDict([('userID', '2'), ('age', '53'), ('gender', 'F'), ('occupation', 'other'), ('zipcode', '94043')]), OrderedDict([('userID', '3'), ('age', '23'), ('gender', 'M'), ('occupation', 'writer'), ('zipcode', '32067')]), OrderedDict([('userID', '4'), ('age', '24'), ('gender', 'M'), ('occupation', 'technician'), ('zipcode', '43537')]), OrderedDict([('userID', '5'), ('age', '33'), ('gender', 'F'), ('occupation', 'other'), ('zipcode', '15213')]), OrderedDict([('userID', '6'), ('age', '42'), ('gender', 'M'), ('occupation', 'executive'), ('zipcode', '98101')]), OrderedDict([('userID', '7'), ('age', '57'), ('gender', 'M'), ('occupation', 'administrator'), ('zipcode', '91344')]), OrderedDict([('userID', '8'), ('age', '36'), ('gender', 'M'), ('occupation', 'administrator'), ('zipcode', '05201')]), OrderedDict([('userID', '9'), ('age', '29'), ('gender', 'M'), ('occupation', 'student'), ('zipcode', '01002')]), OrderedDict([('userID', '10'), ('age', '53'), ('gender', 'M'), ('occupation', 'lawyer'), ('zipcode', '90703')])]\n",
      "Nb de users : 943\n"
     ]
    }
   ],
   "source": [
    "with open('u.user', 'r') as f:\n",
    "    reader = csv.DictReader(f, delimiter = '|', fieldnames=['userID','age','gender','occupation','zipcode'])\n",
    "    User = list(reader)\n",
    "print(User[:10])\n",
    "print(\"Nb de users :\", len(User))"
   ]
  },
  {
   "cell_type": "code",
   "execution_count": 8,
   "metadata": {},
   "outputs": [
    {
     "name": "stdout",
     "output_type": "stream",
     "text": [
      "[['administrator'], ['artist'], ['doctor'], ['educator'], ['engineer'], ['entertainment'], ['executive'], ['healthcare'], ['homemaker'], ['lawyer'], ['librarian'], ['marketing'], ['none'], ['other'], ['programmer'], ['retired'], ['salesman'], ['scientist'], ['student'], ['technician'], ['writer']]\n",
      "Nombre d'occupations : 21\n"
     ]
    }
   ],
   "source": [
    "with open('u.occupation', 'r') as f:\n",
    "    reader = csv.reader(f)\n",
    "    Occupation = list(reader)\n",
    "print(Occupation)\n",
    "print(\"Nombre d'occupations :\", len(Occupation))"
   ]
  },
  {
   "cell_type": "code",
   "execution_count": 9,
   "metadata": {},
   "outputs": [
    {
     "name": "stdout",
     "output_type": "stream",
     "text": [
      "[OrderedDict([('movieID', '1'), ('Title', 'Toy Story (1995)'), ('releaseDate', '01-Jan-1995'), ('videoReleaseDate', ''), ('IMDb URL', 'http://us.imdb.com/M/title-exact?Toy%20Story%20(1995)'), ('unknown', '0'), ('Action', '0'), ('Adventure', '0'), ('Animation', '1'), ('Childrens', '1'), ('Comedy', '1'), ('Crime', '0'), ('Documentary', '0'), ('Drama', '0'), ('Fantasy', '0'), ('Film-Noir', '0'), ('Horror', '0'), ('Musical', '0'), ('Mystery', '0'), ('Romance', '0'), ('Sci-Fi', '0'), ('Thriller', '0'), ('War', '0'), ('Western', '0')]), OrderedDict([('movieID', '2'), ('Title', 'GoldenEye (1995)'), ('releaseDate', '01-Jan-1995'), ('videoReleaseDate', ''), ('IMDb URL', 'http://us.imdb.com/M/title-exact?GoldenEye%20(1995)'), ('unknown', '0'), ('Action', '1'), ('Adventure', '1'), ('Animation', '0'), ('Childrens', '0'), ('Comedy', '0'), ('Crime', '0'), ('Documentary', '0'), ('Drama', '0'), ('Fantasy', '0'), ('Film-Noir', '0'), ('Horror', '0'), ('Musical', '0'), ('Mystery', '0'), ('Romance', '0'), ('Sci-Fi', '0'), ('Thriller', '1'), ('War', '0'), ('Western', '0')])]\n",
      "Nombre de films : 1682\n"
     ]
    }
   ],
   "source": [
    "with open('u.item', 'r') as f:\n",
    "    reader = csv.DictReader(f, delimiter = '|', fieldnames=['movieID', 'Title', 'releaseDate', 'videoReleaseDate','IMDb URL',\n",
    "            'unknown','Action', 'Adventure', 'Animation', 'Childrens', 'Comedy', 'Crime', 'Documentary','Drama', 'Fantasy',\n",
    "            'Film-Noir', 'Horror', 'Musical', 'Mystery', 'Romance', 'Sci-Fi', 'Thriller', 'War', 'Western'])\n",
    "    Item = list(reader)\n",
    "print(Item[:2])\n",
    "print(\"Nombre de films :\", len(Item))"
   ]
  },
  {
   "cell_type": "code",
   "execution_count": 10,
   "metadata": {
    "scrolled": true
   },
   "outputs": [
    {
     "name": "stdout",
     "output_type": "stream",
     "text": [
      "[OrderedDict([('Genre:', 'unknown'), ('Numero:', '0')]), OrderedDict([('Genre:', 'Action'), ('Numero:', '1')]), OrderedDict([('Genre:', 'Adventure'), ('Numero:', '2')]), OrderedDict([('Genre:', 'Animation'), ('Numero:', '3')]), OrderedDict([('Genre:', \"Children's\"), ('Numero:', '4')]), OrderedDict([('Genre:', 'Comedy'), ('Numero:', '5')]), OrderedDict([('Genre:', 'Crime'), ('Numero:', '6')]), OrderedDict([('Genre:', 'Documentary'), ('Numero:', '7')]), OrderedDict([('Genre:', 'Drama'), ('Numero:', '8')]), OrderedDict([('Genre:', 'Fantasy'), ('Numero:', '9')]), OrderedDict([('Genre:', 'Film-Noir'), ('Numero:', '10')]), OrderedDict([('Genre:', 'Horror'), ('Numero:', '11')]), OrderedDict([('Genre:', 'Musical'), ('Numero:', '12')]), OrderedDict([('Genre:', 'Mystery'), ('Numero:', '13')]), OrderedDict([('Genre:', 'Romance'), ('Numero:', '14')]), OrderedDict([('Genre:', 'Sci-Fi'), ('Numero:', '15')]), OrderedDict([('Genre:', 'Thriller'), ('Numero:', '16')]), OrderedDict([('Genre:', 'War'), ('Numero:', '17')]), OrderedDict([('Genre:', 'Western'), ('Numero:', '18')])]\n",
      "Nombre de genres : 19\n"
     ]
    }
   ],
   "source": [
    "with open('u.genre', 'r') as f:\n",
    "    reader = csv.DictReader(f, delimiter = '|', fieldnames=['Genre:','Numero:'])\n",
    "    Genre = list(reader)\n",
    "print(Genre)\n",
    "print(\"Nombre de genres :\", len(Genre))"
   ]
  },
  {
   "cell_type": "markdown",
   "metadata": {},
   "source": [
    "## 2.  Création de R (M x N) qui contient les notes des films Ni noté par le user Mi (ou 0 si film non noté)"
   ]
  },
  {
   "cell_type": "markdown",
   "metadata": {},
   "source": [
    "M = nombre de users ; \n",
    "N = nb de films"
   ]
  },
  {
   "cell_type": "code",
   "execution_count": 12,
   "metadata": {},
   "outputs": [],
   "source": [
    "# Remplir la matrice utilisateur-item \n",
    "NbUsers = len(User)\n",
    "NbItems= len(Item)\n",
    "R = np.zeros((NbUsers, NbItems))\n",
    "for row in baseUserItem:\n",
    "    R[row['user']-1,row['movie']-1] = row['rating']"
   ]
  },
  {
   "cell_type": "code",
   "execution_count": 20,
   "metadata": {},
   "outputs": [
    {
     "name": "stdout",
     "output_type": "stream",
     "text": [
      "(943, 1682)\n"
     ]
    }
   ],
   "source": [
    "print(R.shape)"
   ]
  },
  {
   "cell_type": "code",
   "execution_count": null,
   "metadata": {},
   "outputs": [],
   "source": []
  }
 ],
 "metadata": {
  "kernelspec": {
   "display_name": "Python 3",
   "language": "python",
   "name": "python3"
  },
  "language_info": {
   "codemirror_mode": {
    "name": "ipython",
    "version": 3
   },
   "file_extension": ".py",
   "mimetype": "text/x-python",
   "name": "python",
   "nbconvert_exporter": "python",
   "pygments_lexer": "ipython3",
   "version": "3.7.0"
  }
 },
 "nbformat": 4,
 "nbformat_minor": 1
}
