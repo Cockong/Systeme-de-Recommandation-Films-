{
 "cells": [
  {
   "cell_type": "markdown",
   "metadata": {},
   "source": [
    "## 1.  Import des données "
   ]
  },
  {
   "cell_type": "code",
   "execution_count": 1,
   "metadata": {},
   "outputs": [],
   "source": [
    "import csv\n",
    "import numpy as np\n",
    "%matplotlib inline\n",
    "# pour ipyhton notebook \n",
    "import matplotlib as plt\n",
    "import pylab as pl\n",
    "import time"
   ]
  },
  {
   "cell_type": "markdown",
   "metadata": {},
   "source": [
    "#### Implémentation  de deux fonctions utiles pour importer les fichiers :"
   ]
  },
  {
   "cell_type": "code",
   "execution_count": 2,
   "metadata": {},
   "outputs": [],
   "source": [
    "def open_numeric(baseFileName, fieldnames=['user','movie','rating','datestamp'], delimiter='\\t'):\n",
    "    \"\"\"\n",
    "    fonction généralisée pour lire les fichiers numériques\n",
    "    \"\"\"\n",
    "    with open(baseFileName, 'r') as f:\n",
    "         reader = csv.DictReader(f, delimiter = delimiter, fieldnames=fieldnames)\n",
    "         # create a dict out of reader, converting all values to integers\n",
    "         return [dict([key, int(value)] for key, value in row.items()) for row in list(reader)]\n"
   ]
  },
  {
   "cell_type": "code",
   "execution_count": 3,
   "metadata": {},
   "outputs": [],
   "source": [
    "def open_file(baseFileName, fieldnames=None , delimiter='|'):    \n",
    "    \"\"\"\n",
    "    fonction généralisée pour lire les fichiers non numériques\n",
    "    \"\"\"   \n",
    "    with open(baseFileName, 'r') as f:\n",
    "         reader = csv.DictReader(f, delimiter = delimiter,fieldnames=fieldnames)\n",
    "         return list(reader)"
   ]
  },
  {
   "cell_type": "markdown",
   "metadata": {},
   "source": [
    " ####  Création des deux directionnaires des ratings (20% et 80%) \n",
    " ##### on travaille seulement sur u1.test et u1 base pour l'instant)"
   ]
  },
  {
   "cell_type": "code",
   "execution_count": 4,
   "metadata": {},
   "outputs": [],
   "source": [
    "baseUserItem=open_numeric(\"u1.base\")"
   ]
  },
  {
   "cell_type": "code",
   "execution_count": 5,
   "metadata": {},
   "outputs": [],
   "source": [
    "testUserItem=open_numeric(\"u1.test\")"
   ]
  },
  {
   "cell_type": "markdown",
   "metadata": {},
   "source": [
    "## Informations sur les User / Occupation /Items (movies) / Genres "
   ]
  },
  {
   "cell_type": "code",
   "execution_count": 6,
   "metadata": {},
   "outputs": [],
   "source": [
    "User=open_file(\"u.user\", fieldnames=['userID','age','gender','occupation','zipcode'])\n"
   ]
  },
  {
   "cell_type": "code",
   "execution_count": 7,
   "metadata": {},
   "outputs": [],
   "source": [
    "with open('u.occupation', 'r') as f: #je n'ai pas réussi a utiliser la fonction généralisée, la doc de csv.reader n'est pas à jour\n",
    "    reader = csv.reader(f)\n",
    "    Occupation = list(reader)\n"
   ]
  },
  {
   "cell_type": "code",
   "execution_count": 8,
   "metadata": {},
   "outputs": [
    {
     "ename": "UnicodeDecodeError",
     "evalue": "'utf-8' codec can't decode byte 0xe9 in position 2892: invalid continuation byte",
     "output_type": "error",
     "traceback": [
      "\u001b[0;31m---------------------------------------------------------------------------\u001b[0m",
      "\u001b[0;31mUnicodeDecodeError\u001b[0m                        Traceback (most recent call last)",
      "\u001b[0;32m<ipython-input-8-d683cfc3eae5>\u001b[0m in \u001b[0;36m<module>\u001b[0;34m()\u001b[0m\n\u001b[1;32m      2\u001b[0m                                        \u001b[0;34m'Action'\u001b[0m\u001b[0;34m,\u001b[0m \u001b[0;34m'Adventure'\u001b[0m\u001b[0;34m,\u001b[0m \u001b[0;34m'Animation'\u001b[0m\u001b[0;34m,\u001b[0m \u001b[0;34m'Childrens'\u001b[0m\u001b[0;34m,\u001b[0m \u001b[0;34m'Comedy'\u001b[0m\u001b[0;34m,\u001b[0m \u001b[0;34m'Crime'\u001b[0m\u001b[0;34m,\u001b[0m \u001b[0;34m'Documentary'\u001b[0m\u001b[0;34m,\u001b[0m\u001b[0;34m\u001b[0m\u001b[0m\n\u001b[1;32m      3\u001b[0m                                        \u001b[0;34m'Drama'\u001b[0m\u001b[0;34m,\u001b[0m\u001b[0;34m'Fantasy'\u001b[0m\u001b[0;34m,\u001b[0m\u001b[0;34m'Film-Noir'\u001b[0m\u001b[0;34m,\u001b[0m \u001b[0;34m'Horror'\u001b[0m\u001b[0;34m,\u001b[0m \u001b[0;34m'Musical'\u001b[0m\u001b[0;34m,\u001b[0m \u001b[0;34m'Mystery'\u001b[0m\u001b[0;34m,\u001b[0m\u001b[0;34m'Romance'\u001b[0m\u001b[0;34m,\u001b[0m\u001b[0;34m\u001b[0m\u001b[0m\n\u001b[0;32m----> 4\u001b[0;31m                                        'Sci-Fi', 'Thriller', 'War', 'Western'])\n\u001b[0m",
      "\u001b[0;32m<ipython-input-3-2421df0063c5>\u001b[0m in \u001b[0;36mopen_file\u001b[0;34m(baseFileName, fieldnames, delimiter)\u001b[0m\n\u001b[1;32m      5\u001b[0m     \u001b[0;32mwith\u001b[0m \u001b[0mopen\u001b[0m\u001b[0;34m(\u001b[0m\u001b[0mbaseFileName\u001b[0m\u001b[0;34m,\u001b[0m \u001b[0;34m'r'\u001b[0m\u001b[0;34m)\u001b[0m \u001b[0;32mas\u001b[0m \u001b[0mf\u001b[0m\u001b[0;34m:\u001b[0m\u001b[0;34m\u001b[0m\u001b[0m\n\u001b[1;32m      6\u001b[0m          \u001b[0mreader\u001b[0m \u001b[0;34m=\u001b[0m \u001b[0mcsv\u001b[0m\u001b[0;34m.\u001b[0m\u001b[0mDictReader\u001b[0m\u001b[0;34m(\u001b[0m\u001b[0mf\u001b[0m\u001b[0;34m,\u001b[0m \u001b[0mdelimiter\u001b[0m \u001b[0;34m=\u001b[0m \u001b[0mdelimiter\u001b[0m\u001b[0;34m,\u001b[0m\u001b[0mfieldnames\u001b[0m\u001b[0;34m=\u001b[0m\u001b[0mfieldnames\u001b[0m\u001b[0;34m)\u001b[0m\u001b[0;34m\u001b[0m\u001b[0m\n\u001b[0;32m----> 7\u001b[0;31m          \u001b[0;32mreturn\u001b[0m \u001b[0mlist\u001b[0m\u001b[0;34m(\u001b[0m\u001b[0mreader\u001b[0m\u001b[0;34m)\u001b[0m\u001b[0;34m\u001b[0m\u001b[0m\n\u001b[0m",
      "\u001b[0;32m/usr/lib64/python3.6/csv.py\u001b[0m in \u001b[0;36m__next__\u001b[0;34m(self)\u001b[0m\n\u001b[1;32m    110\u001b[0m             \u001b[0;31m# Used only for its side effect.\u001b[0m\u001b[0;34m\u001b[0m\u001b[0;34m\u001b[0m\u001b[0m\n\u001b[1;32m    111\u001b[0m             \u001b[0mself\u001b[0m\u001b[0;34m.\u001b[0m\u001b[0mfieldnames\u001b[0m\u001b[0;34m\u001b[0m\u001b[0m\n\u001b[0;32m--> 112\u001b[0;31m         \u001b[0mrow\u001b[0m \u001b[0;34m=\u001b[0m \u001b[0mnext\u001b[0m\u001b[0;34m(\u001b[0m\u001b[0mself\u001b[0m\u001b[0;34m.\u001b[0m\u001b[0mreader\u001b[0m\u001b[0;34m)\u001b[0m\u001b[0;34m\u001b[0m\u001b[0m\n\u001b[0m\u001b[1;32m    113\u001b[0m         \u001b[0mself\u001b[0m\u001b[0;34m.\u001b[0m\u001b[0mline_num\u001b[0m \u001b[0;34m=\u001b[0m \u001b[0mself\u001b[0m\u001b[0;34m.\u001b[0m\u001b[0mreader\u001b[0m\u001b[0;34m.\u001b[0m\u001b[0mline_num\u001b[0m\u001b[0;34m\u001b[0m\u001b[0m\n\u001b[1;32m    114\u001b[0m \u001b[0;34m\u001b[0m\u001b[0m\n",
      "\u001b[0;32m/usr/lib64/python3.6/codecs.py\u001b[0m in \u001b[0;36mdecode\u001b[0;34m(self, input, final)\u001b[0m\n\u001b[1;32m    319\u001b[0m         \u001b[0;31m# decode input (taking the buffer into account)\u001b[0m\u001b[0;34m\u001b[0m\u001b[0;34m\u001b[0m\u001b[0m\n\u001b[1;32m    320\u001b[0m         \u001b[0mdata\u001b[0m \u001b[0;34m=\u001b[0m \u001b[0mself\u001b[0m\u001b[0;34m.\u001b[0m\u001b[0mbuffer\u001b[0m \u001b[0;34m+\u001b[0m \u001b[0minput\u001b[0m\u001b[0;34m\u001b[0m\u001b[0m\n\u001b[0;32m--> 321\u001b[0;31m         \u001b[0;34m(\u001b[0m\u001b[0mresult\u001b[0m\u001b[0;34m,\u001b[0m \u001b[0mconsumed\u001b[0m\u001b[0;34m)\u001b[0m \u001b[0;34m=\u001b[0m \u001b[0mself\u001b[0m\u001b[0;34m.\u001b[0m\u001b[0m_buffer_decode\u001b[0m\u001b[0;34m(\u001b[0m\u001b[0mdata\u001b[0m\u001b[0;34m,\u001b[0m \u001b[0mself\u001b[0m\u001b[0;34m.\u001b[0m\u001b[0merrors\u001b[0m\u001b[0;34m,\u001b[0m \u001b[0mfinal\u001b[0m\u001b[0;34m)\u001b[0m\u001b[0;34m\u001b[0m\u001b[0m\n\u001b[0m\u001b[1;32m    322\u001b[0m         \u001b[0;31m# keep undecoded input until the next call\u001b[0m\u001b[0;34m\u001b[0m\u001b[0;34m\u001b[0m\u001b[0m\n\u001b[1;32m    323\u001b[0m         \u001b[0mself\u001b[0m\u001b[0;34m.\u001b[0m\u001b[0mbuffer\u001b[0m \u001b[0;34m=\u001b[0m \u001b[0mdata\u001b[0m\u001b[0;34m[\u001b[0m\u001b[0mconsumed\u001b[0m\u001b[0;34m:\u001b[0m\u001b[0;34m]\u001b[0m\u001b[0;34m\u001b[0m\u001b[0m\n",
      "\u001b[0;31mUnicodeDecodeError\u001b[0m: 'utf-8' codec can't decode byte 0xe9 in position 2892: invalid continuation byte"
     ]
    }
   ],
   "source": [
    "Item = open_file(\"u.item\", fieldnames=['movieID', 'Title', 'releaseDate', 'videoReleaseDate','IMDb URL', 'unknown',\n",
    "                                       'Action', 'Adventure', 'Animation', 'Childrens', 'Comedy', 'Crime', 'Documentary',\n",
    "                                       'Drama','Fantasy','Film-Noir', 'Horror', 'Musical', 'Mystery','Romance', \n",
    "                                       'Sci-Fi', 'Thriller', 'War', 'Western'])\n"
   ]
  },
  {
   "cell_type": "code",
   "execution_count": null,
   "metadata": {
    "scrolled": true
   },
   "outputs": [],
   "source": [
    "Genre=open_file(\"u.genre\",fieldnames=['Genre:','Numero:'])\n"
   ]
  },
  {
   "cell_type": "markdown",
   "metadata": {},
   "source": [
    "## 2.  Création de la matrice R \n",
    "\n",
    "#### R de taille M x N qui contient les notes des films Ni noté par le user Mi (ou 0 si film non noté)"
   ]
  },
  {
   "cell_type": "markdown",
   "metadata": {},
   "source": [
    "M = nombre de users ; \n",
    "N = nb de films"
   ]
  },
  {
   "cell_type": "code",
   "execution_count": null,
   "metadata": {},
   "outputs": [],
   "source": [
    "start1 = time.time()\n",
    "start2 = time.time()"
   ]
  },
  {
   "cell_type": "code",
   "execution_count": null,
   "metadata": {},
   "outputs": [],
   "source": [
    "# Remplir la matrice utilisateur-item \n",
    "NbUsers = len(User)\n",
    "NbItems= len(Item)\n",
    "R = np.zeros((NbUsers, NbItems))\n",
    "for row in baseUserItem:\n",
    "    R[row['user']-1,row['movie']-1] = row['rating']\n",
    "pl.imshow(R,interpolation='none')"
   ]
  },
  {
   "cell_type": "markdown",
   "metadata": {},
   "source": [
    "## 3.   Approximation bas-rang par SVD"
   ]
  },
  {
   "cell_type": "markdown",
   "metadata": {},
   "source": [
    " ###  Remplissage matrice RC (note moyenne film)\n"
   ]
  },
  {
   "cell_type": "code",
   "execution_count": null,
   "metadata": {},
   "outputs": [],
   "source": [
    "def creation_RC(R):\n",
    "    \"\"\"\n",
    "    :param R: matrice R utilisateur-item\n",
    "    :return:  matrice RC des moyennes des films\n",
    "    \"\"\"\n",
    "    NbUsers = R.shape[0]\n",
    "    NbItems = R.shape[1]\n",
    "    mean_items = [0 for row in range(NbItems)]  # liste des moyenne par colonne(film)\n",
    "    for col in range(NbItems):\n",
    "        rating_number = 0  # savoir le nombre d'éléments quon additionne pour diviser la moyenne\n",
    "        for user_rating in R[:, col]:\n",
    "            if user_rating != 0:  # on ne prend que les valeurs non nul\n",
    "                mean_items[col] += user_rating\n",
    "                rating_number += 1\n",
    "        if rating_number != 0:  # il doit y avoir au moins une note par film\n",
    "            mean_items[col] = mean_items[col] / rating_number\n",
    "    RC = R.copy()\n",
    "    for col in range(NbItems):\n",
    "        for row in range(NbUsers):\n",
    "            if RC[row, col] == 0:\n",
    "                RC[row, col] = mean_items[col]\n",
    "    return RC"
   ]
  },
  {
   "cell_type": "code",
   "execution_count": null,
   "metadata": {},
   "outputs": [],
   "source": [
    "RC = creation_RC(R)\n",
    "pl.imshow(RC,interpolation='none')"
   ]
  },
  {
   "cell_type": "markdown",
   "metadata": {},
   "source": [
    " ###  Remplissage matrice RR  (note moyenne user)\n"
   ]
  },
  {
   "cell_type": "code",
   "execution_count": null,
   "metadata": {},
   "outputs": [],
   "source": [
    "def creation_RR(R):\n",
    "    \"\"\"\n",
    "    :param R: matrice R utilisateur-item\n",
    "    :return: matrice RC des moyennes utilisateurs\n",
    "    \"\"\"\n",
    "    NbUsers = R.shape[0]\n",
    "    NbItems = R.shape[1]\n",
    "    mean_users = [0 for row in range(NbUsers)]  # liste des moyenne par lignes(users)\n",
    "    for row in range(NbUsers):\n",
    "        rating_number = 0  # savoir le nombre d'éléments qu'on additionne pour diviser la moyenne\n",
    "        for user_rating in R[row, :]:\n",
    "            if user_rating != 0:\n",
    "                mean_users[row] += user_rating\n",
    "                rating_number += 1\n",
    "        if rating_number != 0:  # il doit y avoir au moins une note par film\n",
    "            mean_users[row] = mean_users[row] / rating_number\n",
    "    RR = R.copy()\n",
    "    for row in range(NbUsers):\n",
    "        for col in range(NbItems):\n",
    "            if RR[row, col] == 0:\n",
    "                RR[row, col] = mean_users[row]\n",
    "    return RR  "
   ]
  },
  {
   "cell_type": "code",
   "execution_count": null,
   "metadata": {},
   "outputs": [],
   "source": [
    "RR = creation_RR(R)\n",
    "pl.imshow(RR,interpolation='none') "
   ]
  },
  {
   "cell_type": "code",
   "execution_count": null,
   "metadata": {},
   "outputs": [],
   "source": [
    "end2 = time.time()"
   ]
  },
  {
   "cell_type": "markdown",
   "metadata": {},
   "source": [
    "## Décomposition en valeurs singulières des matrices RR et RC"
   ]
  },
  {
   "cell_type": "code",
   "execution_count": null,
   "metadata": {},
   "outputs": [],
   "source": [
    "def svd_matrice(A):\n",
    "    \"\"\" \n",
    "    A : matrice de taille MxN (ici M < N)\n",
    "    Fonction qui réalise la décomposition en valeurs singulières de A tq : A = U x Sigma x VT\n",
    "    Retourne :\n",
    "    U : matrice de taille MxM unitaire\n",
    "    Sigma : matrice  diagonal de taille MxN \n",
    "    VT : Transpose de la matrice V qui est de taille NxN unitaire\n",
    "    \"\"\"\n",
    "    U, s, VT = np.linalg.svd(A, full_matrices=True)   # s est un vecteur de taille M (M < N) contenant les coeffs \n",
    "    S = np.zeros((A.shape[0], A.shape[1])) # on créé S une matrice de taille M x N\n",
    "    m = min(A.shape[0], A.shape[1]) # ici M < N donc on aura m = M\n",
    "    S[:m, :m] = np.diag(s) # On rempli S par la matrice carre diagonale MxM contenant les coeffs\n",
    "    return U, S, VT\n",
    "    \n",
    "    "
   ]
  },
  {
   "cell_type": "markdown",
   "metadata": {},
   "source": [
    "##### Calcul de $U_c, S_c, V'_c$  tel que : $ RC = U_cS_cV'_c$\n"
   ]
  },
  {
   "cell_type": "code",
   "execution_count": null,
   "metadata": {},
   "outputs": [],
   "source": [
    "Uc, Sc, VTc = svd_matrice(RC)\n",
    "print(\"A-t-on bien RC = Uc x Sc x VTc : \", np.allclose(RC, np.dot(Uc, np.dot(Sc, VTc))))"
   ]
  },
  {
   "cell_type": "markdown",
   "metadata": {},
   "source": [
    "##### Calcul de $U_r, S_r, V'_r$  tel que : $ RC = U_rS_rV'_r$"
   ]
  },
  {
   "cell_type": "code",
   "execution_count": null,
   "metadata": {},
   "outputs": [],
   "source": [
    "Ur, Sr, VTr = svd_matrice(RR)\n",
    "print(\"A-t-on bien RR = Ur x Sr x VTr : \", np.allclose(RR, np.dot(Ur, np.dot(Sr, VTr))))"
   ]
  },
  {
   "cell_type": "markdown",
   "metadata": {},
   "source": [
    "### Approximation bas-rang par SVD "
   ]
  },
  {
   "cell_type": "markdown",
   "metadata": {},
   "source": [
    "#####  Implémentation d'une fonction qui permmettra de calculer les approximations bas-rang de RC et de RR.\n",
    "\n",
    "Le but est d'obtenir 30 matrices Rk = $U_kS_kV'_k$ pour k = 1,..,30.\n"
   ]
  },
  {
   "cell_type": "code",
   "execution_count": null,
   "metadata": {},
   "outputs": [],
   "source": [
    "def approx_rang_k_svd_(U, S, VT):\n",
    "    \"\"\"\n",
    "    :param U: matrice U résultant de la svd\n",
    "    :param S: matrice S résultant de la svd\n",
    "    :param VT: matrice VT résultant de la svd\n",
    "    :return: un tuple contenant les listes de matrices Rk, Uk, Sk, VTk pour k = 1,..,30.\n",
    "    \"\"\"\n",
    "    liste_Sk = []\n",
    "    liste_Uk = []\n",
    "    liste_VTk = []\n",
    "    liste_Rk = []\n",
    "    for k in range(1, 31):\n",
    "        Sk = S[:k, :k]  # on remplie Sck (matrice carrée diagonale remplie des k premiers coeffs)\n",
    "        liste_Sk.append(Sk)\n",
    "        # matrice de rang k\n",
    "        Uk = U[:, :k]\n",
    "        VTk = VT[:k, :]\n",
    "        Rk = np.dot(Uk, np.dot(Sk, VTk))\n",
    "        liste_Uk.append(Uk)\n",
    "        liste_VTk.append(VTk)\n",
    "        liste_Rk.append(Rk)\n",
    "    return liste_Rk, liste_Uk, liste_Sk, liste_VTk"
   ]
  },
  {
   "cell_type": "code",
   "execution_count": null,
   "metadata": {},
   "outputs": [],
   "source": [
    "liste_RCk, liste_Uck, liste_Sck, liste_VTck = approx_rang_k_svd_(Uc, Sc, VTc)"
   ]
  },
  {
   "cell_type": "code",
   "execution_count": null,
   "metadata": {},
   "outputs": [],
   "source": [
    "liste_RRk, liste_Urk, liste_Srk, liste_VTrk = approx_rang_k_svd_(Ur, Sr, VTr)"
   ]
  },
  {
   "cell_type": "markdown",
   "metadata": {},
   "source": [
    "##### $U_k$ : taille M x k\n",
    "\n",
    "###### $S_k$ : taille k x k\n",
    "\n",
    "###### $VT_k$ : taille k x N "
   ]
  },
  {
   "cell_type": "markdown",
   "metadata": {},
   "source": [
    "### Matrices de features $X_k$ et $Y_k$"
   ]
  },
  {
   "cell_type": "markdown",
   "metadata": {},
   "source": [
    "#### Interprétation dans le contexte utilisateur/film :  ####\n",
    "\n",
    "Les matrices Xk et Yk sont des matrices de tendances et leur produit donne la matrice de prédiction : \n",
    "\n",
    "##### Xk (u,) :  indique la tendance pour l'utilisateurs u à suivre les k (premières) tendances\n",
    "##### Yk (,i) :  indique la tendance pour le film i à suivre les k (premières) tendances\n"
   ]
  },
  {
   "cell_type": "markdown",
   "metadata": {},
   "source": [
    "### Calcul de la  matrices de prédictions :\n",
    "\n",
    "Les matrices de prédictions sont en fait tout simplement les matrices $R_k$ = $U_kS_kV'_k$ \n"
   ]
  },
  {
   "cell_type": "code",
   "execution_count": null,
   "metadata": {},
   "outputs": [],
   "source": [
    "def matrices_prediction(liste_Rk):\n",
    "    \"\"\"\n",
    "    :param liste_Uk: liste des maatrice Rk\n",
    "    :return: liste des 30 matrices de prédictions pour k = 1,..,30\n",
    "    \"\"\"\n",
    "    liste_matrices_predictions = liste_Rk\n",
    "    return liste_matrices_predictions"
   ]
  },
  {
   "cell_type": "code",
   "execution_count": null,
   "metadata": {},
   "outputs": [],
   "source": [
    "liste_matrices_predictions_RC = matrices_prediction(liste_RCk)"
   ]
  },
  {
   "cell_type": "code",
   "execution_count": null,
   "metadata": {},
   "outputs": [],
   "source": [
    "liste_matrices_predictions_RR = matrices_prediction(liste_RRk)"
   ]
  },
  {
   "cell_type": "markdown",
   "metadata": {},
   "source": [
    "## 4. Qualité de la prédiction par SVD #"
   ]
  },
  {
   "cell_type": "markdown",
   "metadata": {},
   "source": [
    "## Calcul des MAE pour $RC_k$ et $RR_k$ pour k=1,...,30 ##"
   ]
  },
  {
   "cell_type": "markdown",
   "metadata": {},
   "source": [
    "Définition de la matrice Rtest qui contient les ratings réels :"
   ]
  },
  {
   "cell_type": "code",
   "execution_count": null,
   "metadata": {},
   "outputs": [],
   "source": [
    "NbUsers = len(User)\n",
    "NbItems= len(Item)\n",
    "Rtest = np.zeros((NbUsers, NbItems))\n",
    "for row in testUserItem:\n",
    "    Rtest[row['user']-1,row['movie']-1] = row['rating']"
   ]
  },
  {
   "cell_type": "code",
   "execution_count": null,
   "metadata": {},
   "outputs": [],
   "source": [
    "def calcul_MAE(Rtest, liste_matrices_prediction):\n",
    "    \"\"\"\n",
    "    Calcule la MAE pour chaque matrice de prédiction\n",
    "    :param Rtest: Matrice Test\n",
    "    :param liste_matrices_prediction: liste des matrices de prédictions\n",
    "    :return: liste des MAE pour ces matrices de matrices de prédictions\n",
    "    \"\"\"\n",
    "    liste_MAE = []\n",
    "    for k in range(0, 30):\n",
    "        errorRating = []\n",
    "        for i in range(0, Rtest.shape[0]):\n",
    "            for j in range(0, Rtest.shape[1]):\n",
    "                if Rtest[i][j] != 0:\n",
    "                    errorRating.append(liste_matrices_prediction[k][i][j] - Rtest[i][j])\n",
    "        liste_MAE.append(np.mean(np.abs(errorRating)))\n",
    "    return liste_MAE"
   ]
  },
  {
   "cell_type": "code",
   "execution_count": null,
   "metadata": {},
   "outputs": [],
   "source": [
    "liste_MAEc = calcul_MAE(Rtest, liste_matrices_predictions_RC)"
   ]
  },
  {
   "cell_type": "code",
   "execution_count": null,
   "metadata": {},
   "outputs": [],
   "source": [
    "liste_MAEr = calcul_MAE(Rtest, liste_matrices_predictions_RR)"
   ]
  },
  {
   "cell_type": "markdown",
   "metadata": {},
   "source": [
    "##### Implémantation d'une fonction pour trouver la meilleure matrice de prédictions (et à quelle approximation de bas-rang ellle correspond)"
   ]
  },
  {
   "cell_type": "code",
   "execution_count": null,
   "metadata": {},
   "outputs": [],
   "source": [
    "def meilleure_matrice(liste_MAE):\n",
    "    \"\"\"\n",
    "    Trouve quelle matrice donne les meilleures predictions et à quel K elle correspond\n",
    "    :param liste_MAE: liste contenant les MAE des 30 matrices\n",
    "    :return: la MAE la plus faible et pour quelle approximation de rang k on l'obtient\n",
    "    \"\"\"\n",
    "    min_MAE = liste_MAE[0]\n",
    "    index_min = 1\n",
    "    for k in range(len(liste_MAE)):\n",
    "        if liste_MAE[k] < min_MAE:\n",
    "            min_MAE = liste_MAE[k]\n",
    "            index_min = k + 1\n",
    "    return min_MAE, index_min"
   ]
  },
  {
   "cell_type": "code",
   "execution_count": null,
   "metadata": {},
   "outputs": [],
   "source": [
    "min_MAEc, index_minC = meilleure_matrice(liste_MAEc)\n",
    "print(\"Pour RC : La meilleure matrice de prédiction a une MAE = \", min_MAEc,\n",
    "      \" et est obtenue pour l'approximation de rang k = \", index_minC)"
   ]
  },
  {
   "cell_type": "code",
   "execution_count": null,
   "metadata": {},
   "outputs": [],
   "source": [
    "min_MAEr, index_minR = meilleure_matrice(liste_MAEr)\n",
    "print(\"Pour RR : La meilleure matrice de prédiction a une MAE = \", min_MAEr,\n",
    "      \" et est obtenue pour l'approximation de rang k = \", index_minR)"
   ]
  },
  {
   "cell_type": "code",
   "execution_count": null,
   "metadata": {},
   "outputs": [],
   "source": [
    "end1 = time.time()\n",
    "temps_calcul_approx_bas_rang = end1 - start1\n",
    "print(\" Le temps nécessire pour déterminer les matrice de prédiction optimale (et leur MAE) est : \", round(temps_calcul_approx_bas_rang, 2), \"secondes\")"
   ]
  },
  {
   "cell_type": "markdown",
   "metadata": {},
   "source": [
    "#### Comparaison avec les prédictions naïves, obtenues directement à partir de RC et de RR : "
   ]
  },
  {
   "cell_type": "code",
   "execution_count": null,
   "metadata": {},
   "outputs": [],
   "source": [
    "start22 = time.time()"
   ]
  },
  {
   "cell_type": "code",
   "execution_count": null,
   "metadata": {},
   "outputs": [],
   "source": [
    "errorRating = []\n",
    "for i in range(0, Rtest.shape[0]):\n",
    "    for j in range(0, Rtest.shape[1]):\n",
    "        if Rtest[i][j] != 0:\n",
    "            errorRating.append(RC[i][j] - Rtest[i][j])\n",
    "MAE_RC = (np.mean(np.abs(errorRating)))\n",
    "print(\" MAE pour la matrice de prédictions naïves RC : \", MAE_RC)"
   ]
  },
  {
   "cell_type": "code",
   "execution_count": null,
   "metadata": {},
   "outputs": [],
   "source": [
    "errorRating = []\n",
    "for i in range(0, Rtest.shape[0]):\n",
    "    for j in range(0, Rtest.shape[1]):\n",
    "        if Rtest[i][j] != 0:\n",
    "            errorRating.append(RR[i][j] - Rtest[i][j])\n",
    "MAE_RR = (np.mean(np.abs(errorRating)))\n",
    "print(\" MAE pour la matrice de prédictions naïves RR : \", MAE_RR)"
   ]
  },
  {
   "cell_type": "code",
   "execution_count": null,
   "metadata": {},
   "outputs": [],
   "source": [
    "end22 = time.time()\n",
    "temps_calcul_predictions_naives = (end2 - start2)  + (end22 - start22)\n",
    "print(\" Le temps nécessire pour déterminer les deux matrices de prédiction naïve RR et RC (et leur MAE)  est : \", round(temps_calcul_predictions_naives, 2), \"secondes\")"
   ]
  },
  {
   "cell_type": "markdown",
   "metadata": {},
   "source": [
    "### Avantages de l'approximation bas-rang par rapport à l'utilisation de la matrice de rang plein :"
   ]
  },
  {
   "cell_type": "markdown",
   "metadata": {},
   "source": [
    "$*$  Tout d'abord nous pouvons remarquer que les prédictions basées sur l'approximation de bas-rang  sont un peu plus précises que les prédictions naïves obtenues directements des matrices RR et RC. Nous pouvons aussi remarquer qu'il est préférable de travailler sur la matrice RC complétée par les notes moyennes des films. Les prédictions obtenues à partir de de cette matrice sont légèrement plus précises que celles obtenues avec RR (matrice des notes moyennes utilisateurs).\n",
    "\n",
    "En effet l'approximation bas-rang permet de supprimer le bruit et en ne gardant que les informations importantes, nous  permmettant ainsi d'obtenir des prédictions plus proches de la réalité.\n",
    "\n",
    "\n",
    "$*$ Mais ce gain en précision s'accompagne cependant d'un coût en stockage et en calcul plus important. En effet pour déterminer quelle approximation de bas-rang est la plus optimale, il est nécessaire de calculer, de les stocker et de calculer pour chacune d'elles la MAE associée. Même en se restreignant à $k \\in [0,30]$, nous observons que le temps nécessaire pour déterminer la matrice de prédiction optimale par SVD puis approximation de bas-rang est 10 fois plus long."
   ]
  },
  {
   "cell_type": "markdown",
   "metadata": {},
   "source": [
    "###  Fonction générale pour tester la qualité de la prédiction par SVD chacun des cinq sets base/test disponibles \n",
    "\n",
    "(Fonction qui ré-utilise toutes les fonctions vues précédemment)"
   ]
  },
  {
   "cell_type": "code",
   "execution_count": null,
   "metadata": {},
   "outputs": [],
   "source": [
    "def svd_prediction(numero_base_test):\n",
    "    print(\"Jeu base/test n°\", numero_base_test, \" :\")\n",
    "    \"\"\"\n",
    "    numero_base_test : numero du set de base/test que l'on soouhaite utilisé\n",
    "    return : La plus petite MAE et pour quel K on a donc obtenu les meilleures predictions\n",
    "    \"\"\"\n",
    "    baseFile = \"u\" + str(numero_base_test) + \".base\"\n",
    "    testFile = \"u\" + str(numero_base_test) + \".test\"\n",
    "    baseUserItem = open_numeric(baseFile)\n",
    "    testUserItem = open_numeric(testFile)\n",
    "\n",
    "    # Matrice Test (pour évaluer la qualité de nos  prédictions)\n",
    "    NbUsers = 943\n",
    "    NbItems = 1682\n",
    "    Rtest = np.zeros((NbUsers, NbItems))\n",
    "    for row in testUserItem:\n",
    "        Rtest[row['user'] - 1, row['movie'] - 1] = row['rating']\n",
    "\n",
    "    # Remplir la matrice utilisateur-item R\n",
    "    R = np.zeros((NbUsers, NbItems))\n",
    "    for row in baseUserItem:\n",
    "        R[row['user'] - 1, row['movie'] - 1] = row['rating']\n",
    "\n",
    "    # Remplissage matrice RC (note moyenne film)\n",
    "    RC = creation_RC(R)\n",
    "\n",
    "    # Remplissage matrice RR (note moyenne user)\n",
    "    RR = creation_RR(R)\n",
    "\n",
    "    # On fait les svd :\n",
    "    Uc, Sc, VTc = svd_matrice(RC)\n",
    "    Ur, Sr, VTr = svd_matrice(RR)\n",
    "\n",
    "    # Approximation de rang K (k = 1, .., 31) de la matrice RC\n",
    "    liste_RCk, liste_Uck, liste_Sck, liste_VTck = approx_rang_k_svd_(Uc, Sc, VTc)\n",
    "\n",
    "    # Approximation de rang K (k = 1, .., 31) de la matrice RR\n",
    "    liste_RRk, liste_Urk, liste_Srk, liste_VTrk = approx_rang_k_svd_(Ur, Sr, VTr)\n",
    "\n",
    "    # Calcul des matrices de predictions pour k = 1,...,30 :\n",
    "    liste_matrices_predictions_RC = matrices_prediction(liste_RCk)\n",
    "    liste_matrices_predictions_RR = matrices_prediction(liste_RRk)\n",
    "\n",
    "    # Calcul des MAE :\n",
    "    liste_MAEc = calcul_MAE(Rtest, liste_matrices_predictions_RC)\n",
    "    liste_MAEr = calcul_MAE(Rtest, liste_matrices_predictions_RR)\n",
    "\n",
    "    # Pour quel K a-t-on les meilleures prédictions :\n",
    "    min_MAEc, index_minC = meilleure_matrice(liste_MAEc)\n",
    "    print(\"Pour RCk : La meilleure matrice de prédiction a une MAE = \", min_MAEc,\n",
    "          \", pour l'approximation de rang k = \", index_minC)\n",
    "\n",
    "    min_MAEr, index_minR = meilleure_matrice(liste_MAEr)\n",
    "    print(\"Pour RRk : La meilleure matrice de prédiction a une MAE = \", min_MAEr,\n",
    "          \", pour l'approximation de rang k = \", index_minR)\n",
    "    return (min_MAEc, index_minC, min_MAEr, index_minR)\n"
   ]
  },
  {
   "cell_type": "code",
   "execution_count": null,
   "metadata": {},
   "outputs": [],
   "source": [
    "sum_min_MAEc = 0\n",
    "sum_min_MAEr = 0\n",
    "for i in range(1,6):\n",
    "    A = svd_prediction(i)\n",
    "    sum_min_MAEc += A[0]\n",
    "    sum_min_MAEr += A[2]\n",
    "    print(\"*\" * 21)"
   ]
  },
  {
   "cell_type": "code",
   "execution_count": null,
   "metadata": {},
   "outputs": [],
   "source": [
    "moyenne_min_MAEc = sum_min_MAEc/5\n",
    "moyenne_min_MAEr = sum_min_MAEr/5\n",
    "\n",
    "print(\"La MAE moyenne obtenue pour les matrice RCk optimales des 5 jeux base/test est : \", moyenne_min_MAEc )\n",
    "print(\"La MAE moyenne obtenue sur les matrice RRk optimales des 5  les 5 jeux base/test est : \", moyenne_min_MAEr)"
   ]
  },
  {
   "cell_type": "markdown",
   "metadata": {},
   "source": [
    "## 5. Question théorique"
   ]
  },
  {
   "cell_type": "markdown",
   "metadata": {},
   "source": [
    "Soit $A$ une matrice réelle telle que : $ A \\in M_{m,n} (\\mathbb{R}$) \n",
    "Nous avons vu en cours que toute matrice admet une décomposition en valeurs singulières. \n",
    "\n",
    "Nous savons d'après le cours que $AA^*$ est hermitienne, et que $A^*A$ l'est aussi. Nous pouvons donc en déduire que les matrices $AA^*$ et $A^*A$ sont diagonalisables. \n",
    "\n",
    "Soit f un endomorphisme de $\\mathbb{R}^m$ et g un endomorphisme de $\\mathbb{R}^n$ tel que :  $M_B1(f) = AA^*$ et $M_B2(g) = A^*A$ avec $B1$ et $B2$ les bases canoniques usuelles.\n",
    "\n",
    "Comme $AA^*$ (réciproquement $A^*A$) est diagonalisable, nous pouvons trouver une base de vecteurs propres de $\\mathbb{R}^m$ (réciproquement $\\mathbb{R}^n$).\n",
    "\n",
    "Nous pouvons donc poser $U$ et $V$ dont les vecteurs colonnes sont les vecteurs propres de $AA^*$ et $A^*A$ tel que : \n",
    "\n",
    "$ AA^* = U \\sum_1 U^t $ avec $\\sum_1 = diag(Sp(AA^*))$ (les valeurs propres sont comptées avec multiplicité)\n",
    "\n",
    "$ A^*A = V \\sum_2 V^t $ avec $\\sum_2 = diag(Sp(A^*A))$ (les valeurs propres sont comptées avec multiplicité)\n",
    "\n",
    "Comme les vecteurs colonnes de $U$ et $V$ sont des vecteurs  d'espaces réels, alors ils sont à coefficients réels donc les matrices $U$ et $V$ sont à coefficients réels.\n",
    "\n",
    "en posant $\\sum$ la matrice diagonale qui contient les racines des valeurs propres non nulles de $AA^*$ comptées avec multiplicité et en prenant la matrice $U$ et la matrice $V$ trouvée précédemment,\n",
    "\n",
    "On peut,  par identification, écrire la décomposition de $A$ en valeurs singulières de la façon suivante :\n",
    "\n",
    "$A = U \\sum V^* $ avec $U$ et $V$ réels\n",
    "\n"
   ]
  },
  {
   "cell_type": "markdown",
   "metadata": {},
   "source": [
    "## 6. Problèmes des moindres carrés pour méthode alternée"
   ]
  },
  {
   "cell_type": "code",
   "execution_count": null,
   "metadata": {},
   "outputs": [],
   "source": []
  }
 ],
 "metadata": {
  "kernelspec": {
   "display_name": "Python 3",
   "language": "python",
   "name": "python3"
  },
  "language_info": {
   "codemirror_mode": {
    "name": "ipython",
    "version": 3
   },
   "file_extension": ".py",
   "mimetype": "text/x-python",
   "name": "python",
   "nbconvert_exporter": "python",
   "pygments_lexer": "ipython3",
   "version": "3.6.5"
  }
 },
 "nbformat": 4,
 "nbformat_minor": 1
}
